{
 "cells": [
  {
   "cell_type": "code",
   "execution_count": null,
   "metadata": {},
   "outputs": [],
   "source": [
    "Q.You have been given a sorted(in ascending order) integer array/list(ARR) of size N and an element X.\n",
    "Write a function to search this element in the given input array/list using 'Binary Search'.\n",
    "Return the index of the element in the input array/list. \n",
    "In case the element is not present in the array/list, then return -1\n",
    "\n",
    "Input format :\n",
    "    \n",
    "The first line contains an Integer 'N' which denotes the size of the array/list.\n",
    "\n",
    "Second line contains 'N' single space separated integers representing the elements in the array/list.\n",
    "\n",
    "Third line contains an Integer 't' which denotes the number of test cases or queries to be run. Then the test cases follow..\n",
    "\n",
    "All the 't' lines henceforth, will take the value of X to be searched for in the array/list.\n",
    "\n",
    "Output Format :\n",
    "    \n",
    "For each test case, print the index at which X is present, -1 otherwise.\n",
    "\n",
    "Output for every test case will be printed in a separate line.\n",
    "\n",
    "Sample Input 1:\n",
    "7\n",
    "1 3 7 9 11 12 45\n",
    "1\n",
    "3\n",
    "Sample Output 1:\n",
    "1"
   ]
  },
  {
   "cell_type": "code",
   "execution_count": 8,
   "metadata": {},
   "outputs": [
    {
     "name": "stdout",
     "output_type": "stream",
     "text": [
      "Enter the number of element : 6\n",
      "1 2 3 4 5 6\n",
      "5\n"
     ]
    },
    {
     "data": {
      "text/plain": [
       "4"
      ]
     },
     "execution_count": 8,
     "metadata": {},
     "output_type": "execute_result"
    }
   ],
   "source": [
    "def binary_search(arr,element):\n",
    "    lower_bound=0\n",
    "    upper_bound=len(arr)-1\n",
    "    while(lower_bound<=upper_bound):\n",
    "        mid=(lower_bound+upper_bound)//2\n",
    "        if(arr[mid]==element):\n",
    "            return mid\n",
    "        elif(arr[mid]>element):\n",
    "            upper_bound=mid-1\n",
    "        else:\n",
    "            lower_bound=mid+1\n",
    "    return -1\n",
    "n=int(input(\"Enter the number of element : \"))\n",
    "arr=[int(x) for x in input().split()]\n",
    "element=int(input())\n",
    "binary_search(arr,element)\n",
    "\n",
    "        "
   ]
  },
  {
   "cell_type": "code",
   "execution_count": null,
   "metadata": {},
   "outputs": [],
   "source": [
    "Q.Now that you have learnt how to perform Binary Search, let us try\n",
    "writing code for another edge case. Suppose your sorted array has\n",
    "duplicate numbers.\n",
    "\n",
    "For example, if the array is as follows: [1, 2, 2, 3, 3, 3, 4, 8, 9, 19, 19, 19]\n",
    "Try writing the code for the following two cases.\n",
    "1. Finding first occurrence of the given number.\n",
    "2. Finding the last occurrence of the given number."
   ]
  },
  {
   "cell_type": "code",
   "execution_count": 27,
   "metadata": {},
   "outputs": [
    {
     "name": "stdout",
     "output_type": "stream",
     "text": [
      "Enter the number of element : 12\n",
      "1 2 2 3 3 3 4 8 9 19 19 19\n",
      "19\n",
      "The first occurence of the element at index  9\n"
     ]
    }
   ],
   "source": [
    "# For first occurence of the given number.\n",
    "def binary_search(arr,element):\n",
    "    lower_bound=0\n",
    "    upper_bound=len(arr)-1\n",
    "    while(lower_bound<=upper_bound):\n",
    "        mid=(lower_bound+upper_bound)//2\n",
    "        if(arr[mid]==element):\n",
    "            return mid\n",
    "        elif(arr[mid]>element):\n",
    "            upper_bound=mid-1\n",
    "        else:\n",
    "            lower_bound=mid+1\n",
    "    return -1\n",
    "n=int(input(\"Enter the number of element : \"))\n",
    "arr=[int(x) for x in input().split()]\n",
    "element=int(input())\n",
    "m=binary_search(arr,element)\n",
    "for j in range(m):\n",
    "    if arr[j]==element:\n",
    "        print(\"The first occurence of the element at index \",j)\n",
    "        break"
   ]
  },
  {
   "cell_type": "code",
   "execution_count": null,
   "metadata": {},
   "outputs": [],
   "source": [
    "# method 2 for first occurence of the element"
   ]
  },
  {
   "cell_type": "code",
   "execution_count": 3,
   "metadata": {},
   "outputs": [
    {
     "name": "stdout",
     "output_type": "stream",
     "text": [
      "Enter the number of element : 7\n",
      "1 2 10 10 10 11 12\n",
      "10\n"
     ]
    },
    {
     "data": {
      "text/plain": [
       "3"
      ]
     },
     "execution_count": 3,
     "metadata": {},
     "output_type": "execute_result"
    }
   ],
   "source": [
    "def first_occurence(arr,element):\n",
    "    res=-1\n",
    "    start=0\n",
    "    end=len(arr)-1\n",
    "    mid=(start+end)//2\n",
    "    while(start<=end):\n",
    "        if(arr[mid]==element):\n",
    "            res=mid\n",
    "            end=mid-1\n",
    "        elif(arr[mid]>element):\n",
    "            end=mid-1\n",
    "        else:\n",
    "            start=mid+1\n",
    "        return res\n",
    "n=int(input(\"Enter the number of element : \"))\n",
    "arr=[int(x) for x in input().split()]\n",
    "element=int(input())\n",
    "first_occurence(arr,element)\n",
    "        "
   ]
  },
  {
   "cell_type": "code",
   "execution_count": null,
   "metadata": {},
   "outputs": [],
   "source": [
    "# for last occurence of the element "
   ]
  },
  {
   "cell_type": "code",
   "execution_count": 4,
   "metadata": {},
   "outputs": [
    {
     "name": "stdout",
     "output_type": "stream",
     "text": [
      "Enter the number of element : 12\n",
      "1 2 2 3 3 3 5 5 6 6 9 9\n",
      "6\n",
      "The last occurence of the element at index 9\n"
     ]
    }
   ],
   "source": [
    "def binary_search(arr,element):\n",
    "    lower_bound=0\n",
    "    upper_bound=len(arr)-1\n",
    "    while(lower_bound<=upper_bound):\n",
    "        mid=(lower_bound+upper_bound)//2\n",
    "        if(arr[mid]==element):\n",
    "            return mid\n",
    "        elif(arr[mid]>element):\n",
    "            upper_bound=mid-1\n",
    "        else:\n",
    "            lower_bound=mid+1\n",
    "    return -1\n",
    "n=int(input(\"Enter the number of element : \"))\n",
    "arr=[int(x) for x in input().split()]\n",
    "element=int(input())\n",
    "n=binary_search(arr,element)\n",
    "upper_bound=len(arr)-1\n",
    "for j in range(upper_bound,n,-1):\n",
    "    if arr[j]==element:\n",
    "        print(\"The last occurence of the element at index\",j)\n",
    "        break"
   ]
  },
  {
   "cell_type": "code",
   "execution_count": 13,
   "metadata": {},
   "outputs": [
    {
     "name": "stdout",
     "output_type": "stream",
     "text": [
      "Enter the no of element in the array 7\n",
      "22 21 19 18 17 16 15\n",
      "Enter the element u want to search 21\n"
     ]
    },
    {
     "data": {
      "text/plain": [
       "-1"
      ]
     },
     "execution_count": 13,
     "metadata": {},
     "output_type": "execute_result"
    }
   ],
   "source": [
    "# Descending order sorted array\n",
    "def descending_binary_search(arr,element):\n",
    "    upper_bound=len(arr)-1\n",
    "    lower_bound=0\n",
    "    mid=(lower_bound+upper_bound)//2\n",
    "    while(lower_bound<=upper_bound):\n",
    "        if(arr[mid]==element):\n",
    "            return mid\n",
    "        elif(arr[mid]>element):\n",
    "            lower_bound=mid+1\n",
    "        else:\n",
    "            upper_bound=mid-1\n",
    "    return -1\n",
    "n=int(input(\"Enter the no of element in the array \"))\n",
    "arr=[int(x) for x in input().split()]\n",
    "element=int(input(\"Enter the element u want to search \"))\n",
    "descending_binary_search(arr,element)"
   ]
  },
  {
   "cell_type": "code",
   "execution_count": null,
   "metadata": {},
   "outputs": [],
   "source": [
    "# Order Agonistic search \n",
    "Given the array is sorted and we have to find the element  in it.It is not given that the array is sorted in asscending or \n",
    "descending order."
   ]
  },
  {
   "cell_type": "code",
   "execution_count": 32,
   "metadata": {},
   "outputs": [
    {
     "name": "stdout",
     "output_type": "stream",
     "text": [
      "Enter the number of element in the array : 6\n",
      "22 21 20 19 18 17 \n",
      "Enter the element u want to search : 15\n",
      "-2\n"
     ]
    }
   ],
   "source": [
    "def order_agonistic_search(arr,element):\n",
    "    upper_bound=len(arr)-1\n",
    "    lower_bound=0\n",
    "    if(arr[0]<arr[1]):\n",
    "        while(lower_bound<=upper_bound):\n",
    "            mid=(lower_bound+upper_bound)//2\n",
    "            if(arr[mid]==element):\n",
    "                return mid\n",
    "            elif(arr[mid]>element):\n",
    "                upper_bound=mid-1\n",
    "            else:\n",
    "                lower_bound=mid+1\n",
    "        return -1\n",
    "    else:\n",
    "        while(lower_bound<=upper_bound):\n",
    "            mid=(lower_bound+upper_bound)//2\n",
    "            if(arr[mid]==element):\n",
    "                return mid\n",
    "            elif(arr[mid]>element):\n",
    "                lower_bound=mid+1\n",
    "            else:\n",
    "                upper_bound=mid-1\n",
    "        return -2\n",
    "n=int(input(\"Enter the number of element in the array : \"))\n",
    "arr=[int(x) for x in input().split()]\n",
    "element=int(input(\"Enter the element u want to search : \"))\n",
    "print(order_agonistic_search(arr,element))"
   ]
  },
  {
   "cell_type": "code",
   "execution_count": null,
   "metadata": {},
   "outputs": [],
   "source": [
    "# Count of element in an sorted array\n",
    "Given an array(arr) and we have to count the number of element in the array.\n",
    "ex:-\n",
    "    arr=[2,4,10,10,10,18,20]\n",
    "    count of element 10 = 3"
   ]
  },
  {
   "cell_type": "code",
   "execution_count": 6,
   "metadata": {},
   "outputs": [
    {
     "name": "stdout",
     "output_type": "stream",
     "text": [
      "Enter the number of element in the array : 7\n",
      "2 4 10 10 10 18 20\n",
      "Enter the element u want to search : 10\n",
      "The count of element in array is 3\n"
     ]
    }
   ],
   "source": [
    "def first_occurence(arr,element):\n",
    "    start=0\n",
    "    res=-1\n",
    "    end=len(arr)-1\n",
    "    while(start<=end):\n",
    "        mid=(start+end)//2\n",
    "        if(arr[mid]==element):\n",
    "            res=mid\n",
    "            end=mid-1\n",
    "        elif(arr[mid]>element):\n",
    "            end=mid-1\n",
    "        else:\n",
    "            \n",
    "            start=mid+1\n",
    "    return res\n",
    "def last_occurence(arr,element):\n",
    "    start=0\n",
    "    end=len(arr)-1\n",
    "    result=-1\n",
    "    while(start<=end):\n",
    "        mid=(start+end)//2\n",
    "        if(arr[mid]==element):\n",
    "            result=mid\n",
    "            start=mid+1\n",
    "        elif(arr[mid]>element):\n",
    "            end=mid-1\n",
    "        else:\n",
    "            start=mid+1\n",
    "    return result\n",
    "n=int(input(\"Enter the number of element in the array : \"))\n",
    "arr=[int(x) for x in input().split()]\n",
    "element=int(input(\"Enter the element u want to search : \"))\n",
    "p=first_occurence(arr,element)\n",
    "q=last_occurence(arr,element)\n",
    "print(\"The count of element in array is\",q-p+1)\n",
    "            \n",
    "            \n",
    "            "
   ]
  },
  {
   "cell_type": "code",
   "execution_count": null,
   "metadata": {},
   "outputs": [],
   "source": [
    "# No of times a array is rotated.\n",
    "initial array before rotated=[2,5,6,8,11,12,15,18]\n",
    "input array given in problem=[11,12,15,18,2,5,6,8]\n",
    "Calculate the number of times the array is rotated.\n",
    "Hint:-Number of times the array is rotated is equal the index of the minimum element of the array."
   ]
  },
  {
   "cell_type": "code",
   "execution_count": 11,
   "metadata": {},
   "outputs": [
    {
     "name": "stdout",
     "output_type": "stream",
     "text": [
      "Enter the number of element in the array : 5\n",
      "7 9 11 12 5\n"
     ]
    },
    {
     "data": {
      "text/plain": [
       "4"
      ]
     },
     "execution_count": 11,
     "metadata": {},
     "output_type": "execute_result"
    }
   ],
   "source": [
    "def array_rotation(arr):\n",
    "    start=0\n",
    "    end=len(arr)-1\n",
    "    N=len(arr)\n",
    "    while(start<=end):\n",
    "        mid=(start+end)//2\n",
    "        next=(mid+1)%N\n",
    "        prev=(mid+N-1)%N\n",
    "        if(arr[mid]<arr[next] and arr[mid]<arr[prev]):\n",
    "            return mid\n",
    "        elif(arr[start]<=arr[mid]):\n",
    "            start=mid+1\n",
    "        elif(arr[mid]<=arr[end]):\n",
    "            end=mid-1\n",
    "    return mid\n",
    "n=int(input(\"Enter the number of element in the array : \"))\n",
    "arr=[int(x) for x in input().split()]\n",
    "array_rotation(arr)\n"
   ]
  },
  {
   "cell_type": "code",
   "execution_count": null,
   "metadata": {},
   "outputs": [],
   "source": [
    "# Find an element in sorted rotated array"
   ]
  },
  {
   "cell_type": "code",
   "execution_count": 13,
   "metadata": {},
   "outputs": [
    {
     "name": "stdout",
     "output_type": "stream",
     "text": [
      "Enter the number of element in the array : 9\n",
      "5 6 7 8 9 10 1 2 3\n",
      "Enter the element u want to search : 3\n"
     ]
    },
    {
     "data": {
      "text/plain": [
       "8"
      ]
     },
     "execution_count": 13,
     "metadata": {},
     "output_type": "execute_result"
    }
   ],
   "source": [
    "def element_in_sorted_rotated_array(arr,element):\n",
    "    start=0\n",
    "    end=len(arr)-1\n",
    "    N=len(arr)\n",
    "    while(start<=end):\n",
    "        mid=(start+end)//2\n",
    "        next=(mid+1)%N\n",
    "        prev=(mid+N-1)%N\n",
    "        if(arr[mid]<prev and arr[mid]<next):\n",
    "            return mid\n",
    "        elif(arr[start]<=arr[mid]):\n",
    "            start=mid+1\n",
    "        elif(arr[mid]<=arr[end]):\n",
    "            end=mid-1\n",
    "index=element_in_sorted_rotated_array(arr,element)\n",
    "\n",
    "def search_element(arr,element,start,end):\n",
    "    while(start<=end):\n",
    "        middle=(start+end)//2\n",
    "        if(arr[middle]==element):\n",
    "            return middle\n",
    "        elif(arr[middle]>element):\n",
    "            end=middle-1\n",
    "        else:\n",
    "            start=middle+1\n",
    "    return -1\n",
    "            \n",
    "n=int(input(\"Enter the number of element in the array : \"))\n",
    "arr=[int(x) for x in input().split()]\n",
    "element=int(input(\"Enter the element u want to search : \"))\n",
    "search_element(arr,element,0,index-1)\n",
    "search_element(arr,element,index,len(arr)-1)"
   ]
  },
  {
   "cell_type": "code",
   "execution_count": null,
   "metadata": {},
   "outputs": [],
   "source": [
    "# Find element in nearly sorted array.\n",
    "Nearly sorted array means element is found in (i-1)th position or (i)th position or (i+1)th position."
   ]
  },
  {
   "cell_type": "code",
   "execution_count": 14,
   "metadata": {},
   "outputs": [
    {
     "name": "stdout",
     "output_type": "stream",
     "text": [
      "Enter the number of element in the array : 5\n",
      "5 10 30 20 40\n",
      "Enter the element u want to search20\n"
     ]
    },
    {
     "data": {
      "text/plain": [
       "3"
      ]
     },
     "execution_count": 14,
     "metadata": {},
     "output_type": "execute_result"
    }
   ],
   "source": [
    "def element_in_nearly_sorted_array(arr,ele):\n",
    "    start=0\n",
    "    end=len(arr)-1\n",
    "    while(start<=end):\n",
    "        mid=(start+end)//2\n",
    "        if(ele==arr[mid]):\n",
    "            return mid\n",
    "        elif(mid-1>=start and ele==arr[mid-1]):\n",
    "            return mid-1\n",
    "        elif(mid+1<=end and ele==arr[mid+1]):\n",
    "            return mid+1\n",
    "        elif(arr[mid]>ele):\n",
    "            end=mid-2\n",
    "        elif(arr[mid]<ele):\n",
    "            start=mid+2\n",
    "    return -1\n",
    "n=int(input(\"Enter the number of element in the array : \"))\n",
    "arr=[int(x) for x in input().split()]\n",
    "ele=int(input(\"Enter the element u want to search : \"))\n",
    "element_in_nearly_sorted_array(arr,ele)\n",
    "\n",
    "        "
   ]
  },
  {
   "cell_type": "code",
   "execution_count": null,
   "metadata": {},
   "outputs": [],
   "source": [
    "# Find floor of element in a sorted array.\n",
    "Floor means if the element itself present in the array then we have to return the element else we have to return greatest\n",
    "smaller number from the element."
   ]
  },
  {
   "cell_type": "code",
   "execution_count": 9,
   "metadata": {},
   "outputs": [
    {
     "name": "stdout",
     "output_type": "stream",
     "text": [
      "Enter the number of element in the array : 9\n",
      "1 2 3 4 8 10 10 12 19 \n",
      "Enter the element u want to search : 5\n"
     ]
    },
    {
     "data": {
      "text/plain": [
       "4"
      ]
     },
     "execution_count": 9,
     "metadata": {},
     "output_type": "execute_result"
    }
   ],
   "source": [
    "def floor_of_element_in_sorted_array(arr,element):\n",
    "    start=0\n",
    "    end=len(arr)-1\n",
    "    res=-1\n",
    "    while(start<=end):\n",
    "        mid=(start+end)//2\n",
    "        if(arr[mid]==element):\n",
    "            return arr[mid]\n",
    "        elif(arr[mid]>element):\n",
    "            end=mid-1\n",
    "        elif(arr[mid]<element):\n",
    "            res=arr[mid]\n",
    "            start=mid+1\n",
    "    return res\n",
    "n=int(input(\"Enter the number of element in the array : \"))\n",
    "arr=[int(x) for x in input().split()]\n",
    "ele=int(input(\"Enter the element u want to search : \"))\n",
    "floor_of_element_in_sorted_array(arr,element)"
   ]
  },
  {
   "cell_type": "code",
   "execution_count": null,
   "metadata": {},
   "outputs": [],
   "source": [
    "# Find ceil of an element in an sorted array.\n",
    "Ceil means if the element itself is present in the array then we have to return the element itself else we have to return \n",
    "the next greatest element which we are searching from the array."
   ]
  },
  {
   "cell_type": "code",
   "execution_count": 10,
   "metadata": {},
   "outputs": [
    {
     "name": "stdout",
     "output_type": "stream",
     "text": [
      "9\n",
      "1 2 3 4 8 10 10 12 19\n",
      "Enter the element u want to search : 6\n"
     ]
    },
    {
     "data": {
      "text/plain": [
       "8"
      ]
     },
     "execution_count": 10,
     "metadata": {},
     "output_type": "execute_result"
    }
   ],
   "source": [
    "def ceil_of_an_element(arr,element):\n",
    "    res=-1\n",
    "    start=0\n",
    "    end=len(arr)-1\n",
    "    while(start<=end):\n",
    "        mid=(start+end)//2\n",
    "        if(arr[mid]==element):\n",
    "            return arr[mid]\n",
    "        elif(arr[mid]>element):\n",
    "            res=arr[mid]\n",
    "            end=mid-1\n",
    "        elif(arr[mid]<element):\n",
    "            start=mid+1\n",
    "    return res\n",
    "n=int(input())\n",
    "arr=[int(x) for x in input().split()]\n",
    "element=int(input(\"Enter the element u want to search : \"))\n",
    "ceil_of_an_element(arr,element)"
   ]
  },
  {
   "cell_type": "code",
   "execution_count": null,
   "metadata": {},
   "outputs": [],
   "source": [
    "# Find next alphabet in an sorted array.\n",
    "Homologous to ceil of the number.\n",
    "It contains only alphabet."
   ]
  },
  {
   "cell_type": "code",
   "execution_count": 19,
   "metadata": {},
   "outputs": [
    {
     "name": "stdout",
     "output_type": "stream",
     "text": [
      "Enter the number of element in the array : 5\n",
      "a c f g h \n",
      "f\n",
      "g\n"
     ]
    }
   ],
   "source": [
    "def next_alphabet_element(arr,element):\n",
    "    start=0\n",
    "    end=len(arr)-1\n",
    "    res=-1\n",
    "    while(start<=end):\n",
    "        mid=(start+end)//2\n",
    "        if(arr[mid]==element):\n",
    "            return arr[mid+1]\n",
    "        elif(arr[mid]>element):\n",
    "            res=arr[mid]\n",
    "            end=mid-1\n",
    "        else:\n",
    "            start=mid+1\n",
    "    return res\n",
    "n=int(input(\"Enter the number of element in the array : \"))\n",
    "arr=[str(x) for x in input().split()]\n",
    "element=input()\n",
    "print(str(next_alphabet_element(arr,element)))"
   ]
  },
  {
   "cell_type": "code",
   "execution_count": null,
   "metadata": {},
   "outputs": [],
   "source": [
    "# Find position of an element in an infinite sorted array."
   ]
  },
  {
   "cell_type": "code",
   "execution_count": 20,
   "metadata": {},
   "outputs": [
    {
     "name": "stdout",
     "output_type": "stream",
     "text": [
      "1 2 3 4 5 6 7 8\n",
      "50\n"
     ]
    },
    {
     "ename": "IndexError",
     "evalue": "list index out of range",
     "output_type": "error",
     "traceback": [
      "\u001b[1;31m---------------------------------------------------------------------------\u001b[0m",
      "\u001b[1;31mIndexError\u001b[0m                                Traceback (most recent call last)",
      "\u001b[1;32m<ipython-input-20-c82249794e69>\u001b[0m in \u001b[0;36m<module>\u001b[1;34m\u001b[0m\n\u001b[0;32m     16\u001b[0m \u001b[0marr\u001b[0m\u001b[1;33m=\u001b[0m\u001b[1;33m[\u001b[0m\u001b[0mint\u001b[0m\u001b[1;33m(\u001b[0m\u001b[0mx\u001b[0m\u001b[1;33m)\u001b[0m \u001b[1;32mfor\u001b[0m \u001b[0mx\u001b[0m \u001b[1;32min\u001b[0m \u001b[0minput\u001b[0m\u001b[1;33m(\u001b[0m\u001b[1;33m)\u001b[0m\u001b[1;33m.\u001b[0m\u001b[0msplit\u001b[0m\u001b[1;33m(\u001b[0m\u001b[1;33m)\u001b[0m\u001b[1;33m]\u001b[0m\u001b[1;33m\u001b[0m\u001b[1;33m\u001b[0m\u001b[0m\n\u001b[0;32m     17\u001b[0m \u001b[0mele\u001b[0m\u001b[1;33m=\u001b[0m\u001b[0mint\u001b[0m\u001b[1;33m(\u001b[0m\u001b[0minput\u001b[0m\u001b[1;33m(\u001b[0m\u001b[1;33m)\u001b[0m\u001b[1;33m)\u001b[0m\u001b[1;33m\u001b[0m\u001b[1;33m\u001b[0m\u001b[0m\n\u001b[1;32m---> 18\u001b[1;33m \u001b[0melement_in_infinite_sorted_array\u001b[0m\u001b[1;33m(\u001b[0m\u001b[0marr\u001b[0m\u001b[1;33m,\u001b[0m\u001b[0mele\u001b[0m\u001b[1;33m)\u001b[0m\u001b[1;33m\u001b[0m\u001b[1;33m\u001b[0m\u001b[0m\n\u001b[0m\u001b[0;32m     19\u001b[0m \u001b[1;33m\u001b[0m\u001b[0m\n",
      "\u001b[1;32m<ipython-input-20-c82249794e69>\u001b[0m in \u001b[0;36melement_in_infinite_sorted_array\u001b[1;34m(arr, ele)\u001b[0m\n\u001b[0;32m      2\u001b[0m     \u001b[0mstart\u001b[0m\u001b[1;33m=\u001b[0m\u001b[1;36m0\u001b[0m\u001b[1;33m\u001b[0m\u001b[1;33m\u001b[0m\u001b[0m\n\u001b[0;32m      3\u001b[0m     \u001b[0mend\u001b[0m\u001b[1;33m=\u001b[0m\u001b[1;36m1\u001b[0m\u001b[1;33m\u001b[0m\u001b[1;33m\u001b[0m\u001b[0m\n\u001b[1;32m----> 4\u001b[1;33m     \u001b[1;32mwhile\u001b[0m\u001b[1;33m(\u001b[0m\u001b[0mele\u001b[0m\u001b[1;33m>\u001b[0m\u001b[0marr\u001b[0m\u001b[1;33m[\u001b[0m\u001b[0mend\u001b[0m\u001b[1;33m]\u001b[0m\u001b[1;33m)\u001b[0m\u001b[1;33m:\u001b[0m\u001b[1;33m\u001b[0m\u001b[1;33m\u001b[0m\u001b[0m\n\u001b[0m\u001b[0;32m      5\u001b[0m         \u001b[0mstart\u001b[0m\u001b[1;33m=\u001b[0m\u001b[0mend\u001b[0m\u001b[1;33m\u001b[0m\u001b[1;33m\u001b[0m\u001b[0m\n\u001b[0;32m      6\u001b[0m         \u001b[0mend\u001b[0m\u001b[1;33m=\u001b[0m\u001b[1;36m2\u001b[0m\u001b[1;33m*\u001b[0m\u001b[0mend\u001b[0m\u001b[1;33m\u001b[0m\u001b[1;33m\u001b[0m\u001b[0m\n",
      "\u001b[1;31mIndexError\u001b[0m: list index out of range"
     ]
    }
   ],
   "source": [
    "def element_in_infinite_sorted_array(arr,ele):\n",
    "    start=0\n",
    "    end=1\n",
    "    while(ele>arr[end]):\n",
    "        start=end\n",
    "        end=2*end\n",
    "    while(start<=end):\n",
    "        mid=(start+end)//2\n",
    "        if(arr[mid]==ele):\n",
    "            return mid\n",
    "        elif(arr[mid]>ele):\n",
    "            end=mid-1\n",
    "        else:\n",
    "            start=mid+1\n",
    "    return -1\n",
    "arr=[int(x) for x in input().split()]\n",
    "ele=int(input())\n",
    "element_in_infinite_sorted_array(arr,ele)\n",
    "    \n"
   ]
  }
 ],
 "metadata": {
  "kernelspec": {
   "display_name": "Python 3",
   "language": "python",
   "name": "python3"
  },
  "language_info": {
   "codemirror_mode": {
    "name": "ipython",
    "version": 3
   },
   "file_extension": ".py",
   "mimetype": "text/x-python",
   "name": "python",
   "nbconvert_exporter": "python",
   "pygments_lexer": "ipython3",
   "version": "3.8.5"
  }
 },
 "nbformat": 4,
 "nbformat_minor": 4
}
